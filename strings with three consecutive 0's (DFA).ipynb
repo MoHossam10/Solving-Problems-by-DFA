{
 "cells": [
  {
   "cell_type": "code",
   "execution_count": 19,
   "id": "d3467573",
   "metadata": {},
   "outputs": [
    {
     "name": "stdout",
     "output_type": "stream",
     "text": [
      "1010101000 is accepted.\n",
      "000 is accepted.\n",
      "001 is not accepted.\n",
      "1000 is accepted.\n",
      "010 is not accepted.\n",
      "0000 is accepted.\n"
     ]
    }
   ],
   "source": [
    "class ThreeConsecutiveZerosDFA:\n",
    "    def __init__(self):\n",
    "        self.states = {'q0', 'q1', 'q2', 'q3'}\n",
    "        self.alphabet = {'0', '1'}\n",
    "        self.transitions = {\n",
    "            'q0': {'0': 'q1', '1': 'q0'},\n",
    "            'q1': {'0': 'q2', '1': 'q0'},\n",
    "            'q2': {'0': 'q3', '1': 'q0'},\n",
    "            'q3': {'0': 'q3', '1': 'q3'}\n",
    "        }\n",
    "        self.start_state = 'q0'\n",
    "        self.accept_state = 'q3'\n",
    "\n",
    "    def process_input(self, input_string):\n",
    "        current_state = self.start_state\n",
    "\n",
    "        for symbol in input_string:\n",
    "            if symbol not in self.alphabet:\n",
    "                return False  # Invalid symbol\n",
    "\n",
    "            current_state = self.transitions[current_state][symbol]\n",
    "\n",
    "        return current_state == self.accept_state\n",
    "\n",
    "# Example usage:\n",
    "three_consecutive_zeros_dfa = ThreeConsecutiveZerosDFA()\n",
    "\n",
    "# Test strings\n",
    "test_strings = [\"1010101000\", \"000\", \"001\", \"1000\", \"010\", \"0000\"]\n",
    "\n",
    "for test_string in test_strings:\n",
    "    result = three_consecutive_zeros_dfa.process_input(test_string)\n",
    "    if result:\n",
    "        print(f\"{test_string} is accepted.\")\n",
    "    else:\n",
    "        print(f\"{test_string} is not accepted.\")\n"
   ]
  }
 ],
 "metadata": {
  "kernelspec": {
   "display_name": "Python 3 (ipykernel)",
   "language": "python",
   "name": "python3"
  },
  "language_info": {
   "codemirror_mode": {
    "name": "ipython",
    "version": 3
   },
   "file_extension": ".py",
   "mimetype": "text/x-python",
   "name": "python",
   "nbconvert_exporter": "python",
   "pygments_lexer": "ipython3",
   "version": "3.9.11"
  }
 },
 "nbformat": 4,
 "nbformat_minor": 5
}
