{
 "cells": [
  {
   "cell_type": "code",
   "execution_count": 10,
   "id": "47adb252",
   "metadata": {},
   "outputs": [
    {
     "name": "stdout",
     "output_type": "stream",
     "text": [
      "1111 is divisible by 3.\n"
     ]
    }
   ],
   "source": [
    "def is_divisible_by_3(binary_string):\n",
    "    # Define the transition table for the DFA\n",
    "    transitions = {\n",
    "        'q0': {'0': 'q0', '1': 'q1'},\n",
    "        'q1': {'0': 'q2', '1': 'q0'},\n",
    "        'q2': {'0': 'q1', '1': 'q2'}\n",
    "    }\n",
    "\n",
    "    # Start state\n",
    "    current_state = 'q0'\n",
    "\n",
    "    # Process each symbol in the binary string\n",
    "    for symbol in binary_string:\n",
    "        if symbol not in {'0', '1'}:\n",
    "            # If an unexpected symbol is encountered, return False\n",
    "            return False\n",
    "        current_state = transitions[current_state][symbol]\n",
    "\n",
    "    # Check if the final state is 'q0' (divisible by 3)\n",
    "    return current_state == 'q0'\n",
    "\n",
    "# Example usage:\n",
    "binary_number = \"1111\"\n",
    "result = is_divisible_by_3(binary_number)\n",
    "\n",
    "if result:\n",
    "    print(f\"{binary_number} is divisible by 3.\")\n",
    "else:\n",
    "    print(f\"{binary_number} is not divisible by 3.\")\n"
   ]
  }
 ],
 "metadata": {
  "kernelspec": {
   "display_name": "Python 3 (ipykernel)",
   "language": "python",
   "name": "python3"
  },
  "language_info": {
   "codemirror_mode": {
    "name": "ipython",
    "version": 3
   },
   "file_extension": ".py",
   "mimetype": "text/x-python",
   "name": "python",
   "nbconvert_exporter": "python",
   "pygments_lexer": "ipython3",
   "version": "3.9.11"
  }
 },
 "nbformat": 4,
 "nbformat_minor": 5
}
