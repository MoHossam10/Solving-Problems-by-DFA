{
 "cells": [
  {
   "cell_type": "code",
   "execution_count": 24,
   "id": "43f661c5",
   "metadata": {},
   "outputs": [
    {
     "name": "stdout",
     "output_type": "stream",
     "text": [
      "0000011111111 is accepted.\n",
      "10 is not accepted.\n",
      "110 is accepted.\n",
      "1001 is not accepted.\n",
      "1010 is not accepted.\n",
      "11010 is not accepted.\n",
      "00011 is accepted.\n",
      "11000 is accepted.\n"
     ]
    }
   ],
   "source": [
    "class ParityDFA:\n",
    "    def __init__(self):\n",
    "        self.states = {'q00', 'q01', 'q10', 'q11'}\n",
    "        self.alphabet = {'0', '1'}\n",
    "        self.transitions = {\n",
    "            'q00': {'0': 'q01', '1': 'q10'},\n",
    "            'q01': {'0': 'q00', '1': 'q11'},\n",
    "            'q10': {'0': 'q11', '1': 'q00'},\n",
    "            'q11': {'0': 'q10', '1': 'q01'}\n",
    "        }\n",
    "        self.start_state = 'q00'\n",
    "        self.accept_states = {'q01'}\n",
    "\n",
    "    def process_input(self, input_string):\n",
    "        current_state = self.start_state\n",
    "\n",
    "        for symbol in input_string:\n",
    "            if symbol not in self.alphabet:\n",
    "                return False  # Invalid symbol\n",
    "\n",
    "            current_state = self.transitions[current_state][symbol]\n",
    "\n",
    "        return current_state in self.accept_states\n",
    "\n",
    "# Example usage:\n",
    "parity_dfa = ParityDFA()\n",
    "\n",
    "# Test strings\n",
    "test_strings = [\"0000011111111\", \"10\", \"110\", \"1001\", \"1010\", \"11010\" , \"00011\", \"11000\"]\n",
    "\n",
    "for test_string in test_strings:\n",
    "    result = parity_dfa.process_input(test_string)\n",
    "    if result:\n",
    "        print(f\"{test_string} is accepted.\")\n",
    "    else:\n",
    "        print(f\"{test_string} is not accepted.\")\n"
   ]
  }
 ],
 "metadata": {
  "kernelspec": {
   "display_name": "Python 3 (ipykernel)",
   "language": "python",
   "name": "python3"
  },
  "language_info": {
   "codemirror_mode": {
    "name": "ipython",
    "version": 3
   },
   "file_extension": ".py",
   "mimetype": "text/x-python",
   "name": "python",
   "nbconvert_exporter": "python",
   "pygments_lexer": "ipython3",
   "version": "3.9.11"
  }
 },
 "nbformat": 4,
 "nbformat_minor": 5
}
